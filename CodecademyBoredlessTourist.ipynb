{
 "cells": [
  {
   "cell_type": "code",
   "execution_count": 1,
   "metadata": {},
   "outputs": [
    {
     "name": "stdout",
     "output_type": "stream",
     "text": [
      "Los Angeles, USA\n",
      "[['Venice Beach', ['beach']], ['LACMA', ['art', 'museum']]]\n",
      "[['LACMA', ['art', 'museum']]]\n"
     ]
    }
   ],
   "source": [
    "#Lists\n",
    "destinations = ['Paris, France', 'Shanghai, China', 'Los Angeles, USA', 'Sao Paulo, Brazil', 'Cairo, Egypt']\n",
    "test_traveler = ['Erin Wilkes', 'Shanghai, China', ['historical site', 'art']]\n",
    "attractions = [[] for destination in destinations]\n",
    "\n",
    "#Retrieves destination index from destinations\n",
    "def get_destination_index(destination):\n",
    "  destination_index = destinations.index(destination)\n",
    "  return destination_index\n",
    "#  for location in destinations:\n",
    "#    if location == destination:\n",
    "#      destination_index = destinations.index(location)\n",
    "#      return destination_index\n",
    "\n",
    "#Retrieves destination index for specific traveler\n",
    "def get_traveler_location(traveler):\n",
    "  traveler_destination = traveler[1]\n",
    "  traveler_destination_index = get_destination_index(traveler_destination)\n",
    "  return traveler_destination_index\n",
    "\n",
    "#Test with test_traveler info\n",
    "#test_destination_index = get_traveler_location(test_traveler)\n",
    "#print(test_destination_index)\n",
    "\n",
    "#Inserts attractions into attractions list based on destination\n",
    "def add_attraction(destination, attraction):\n",
    "  try:\n",
    "    destination_index = get_destination_index(destination)\n",
    "    attractions_for_destination = attractions[destination_index]\n",
    "    attractions_for_destination.append(attraction)\n",
    "    return\n",
    "  except ValueError:\n",
    "    return\n",
    "  \n",
    "add_attraction('Los Angeles, USA',['Venice Beach', ['beach']])\n",
    "add_attraction(\"Paris, France\", [\"the Louvre\", [\"art\", \"museum\"]])\n",
    "add_attraction(\"Paris, France\", [\"Arc de Triomphe\", [\"historical site\", \"monument\"]])\n",
    "add_attraction(\"Shanghai, China\", [\"Yu Garden\", [\"garden\", \"historcical site\"]])\n",
    "add_attraction(\"Shanghai, China\", [\"Yuz Museum\", [\"art\", \"museum\"]])\n",
    "add_attraction(\"Shanghai, China\", [\"Oriental Pearl Tower\", [\"skyscraper\", \"viewing deck\"]])\n",
    "add_attraction(\"Los Angeles, USA\", [\"LACMA\", [\"art\", \"museum\"]])\n",
    "add_attraction(\"São Paulo, Brazil\", [\"São Paulo Zoo\", [\"zoo\"]])\n",
    "add_attraction(\"São Paulo, Brazil\", [\"Pátio do Colégio\", [\"historical site\"]])\n",
    "add_attraction(\"Cairo, Egypt\", [\"Pyramids of Giza\", [\"monument\", \"historical site\"]])\n",
    "add_attraction(\"Cairo, Egypt\", [\"Egyptian Museum\", [\"museum\"]])\n",
    "\n",
    "print(destinations[2])\n",
    "print(attractions[2])\n",
    "\n",
    "def find_attractions(destination, interests):\n",
    "  destination_index = get_destination_index(destination)\n",
    "  attractions_in_the_city = attractions[destination_index]\n",
    "  attraction_tags = []\n",
    "  attractions_with_interest = []\n",
    "  for possible_attraction in attractions_in_the_city:\n",
    "    attraction_tags.append(possible_attraction[1])\n",
    "    for tags in attraction_tags:\n",
    "      for keyword in tags:\n",
    "        for interest in interests:\n",
    "          if interest == keyword:\n",
    "            attractions_with_interest.append(possible_attraction)\n",
    "  return attractions_with_interest\n",
    "\n",
    "la_arts = find_attractions('Los Angeles, USA', ['art'])\n",
    "print(la_arts)\n"
   ]
  },
  {
   "cell_type": "code",
   "execution_count": null,
   "metadata": {},
   "outputs": [],
   "source": []
  }
 ],
 "metadata": {
  "kernelspec": {
   "display_name": "Python 3",
   "language": "python",
   "name": "python3"
  },
  "language_info": {
   "codemirror_mode": {
    "name": "ipython",
    "version": 3
   },
   "file_extension": ".py",
   "mimetype": "text/x-python",
   "name": "python",
   "nbconvert_exporter": "python",
   "pygments_lexer": "ipython3",
   "version": "3.7.3"
  }
 },
 "nbformat": 4,
 "nbformat_minor": 2
}
