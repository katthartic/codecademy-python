{
 "cells": [
  {
   "cell_type": "code",
   "execution_count": 1,
   "metadata": {},
   "outputs": [],
   "source": [
    "# These are the emails you will be censoring. The open() function is opening the text file that the emails are contained in and the .read() method is allowing us to save their contexts to the following variables:\n",
    "email_one = open(\"email_one.txt\", \"r\").read()\n",
    "email_two = open(\"email_two.txt\", \"r\").read()\n",
    "email_three = open(\"email_three.txt\", \"r\").read()\n",
    "email_four = open(\"email_four.txt\", \"r\").read()"
   ]
  },
  {
   "cell_type": "code",
   "execution_count": 3,
   "metadata": {},
   "outputs": [],
   "source": [
    "#Global variables\n",
    "phrase_to_replace = 'learning algorithms'\n",
    "proprietary_terms = [\"she\", \"personality matrix\", \"sense of self\", \"self-preservation\", \"learning algorithm\", \"her\", \"herself\"]"
   ]
  },
  {
   "cell_type": "code",
   "execution_count": 17,
   "metadata": {},
   "outputs": [],
   "source": [
    "#Functions\n",
    "\n",
    "#Determines if input is a string\n",
    "def string_or_list(phrase_object):\n",
    "    return isinstance(phrase_object, str)\n",
    "    \n",
    "#Receives text block and phrase. Replaces phrase from text block with\"-CENSORED-\"\n",
    "def censor_phrase_str(text, phrase_str):\n",
    "    text = text.replace(phrase_str, '-CENSORED-')\n",
    "    return text\n",
    "\n",
    "#Receives text block and list of phrases. Replaces phrases from text block with \"-CENSORED-\"\n",
    "def censor_phrase_list(text, phrase_list):\n",
    "    phrast_list = phrase_list.sort(key=len, reverse=True)\n",
    "    for phrase in phrase_list:\n",
    "        text = text.replace(phrase.lower(), '-CENSORED-')\n",
    "        text = text.replace(phrase.upper(), '-CENSORED-')\n",
    "        text = text.replace(phrase.title(), '-CENSORED-')\n",
    "    return text\n",
    "    \n"
   ]
  },
  {
   "cell_type": "code",
   "execution_count": 19,
   "metadata": {},
   "outputs": [
    {
     "name": "stdout",
     "output_type": "stream",
     "text": [
      "Good Morning, Board of Investors,\n",
      "\n",
      "Progress is going great!\n",
      "\n",
      "We have made great strides in the last month improving the learning algorithms that the system has been using to acquire information. Now, the system is learning faster than ever and we are hard pressed to continue to find new information to feed it and sustain its growth.\n",
      "\n",
      "Soon, we'll expand the scope of the learning algorithms and connect the system with the internet. This will allow it to find and determine the information it needs to continue growing.\n",
      "\n",
      "Every month we come closer to achieving our goal of making the world a better place. Famine, plague, war, and poverty are all conquerable with the power of our system!\n",
      "\n",
      "Till next month,\n",
      "Francine, Head Scientist\n",
      "\n"
     ]
    }
   ],
   "source": [
    "print(email_one)"
   ]
  },
  {
   "cell_type": "code",
   "execution_count": 21,
   "metadata": {},
   "outputs": [
    {
     "name": "stdout",
     "output_type": "stream",
     "text": [
      "Good Morning, Board of Investors,\n",
      "\n",
      "Progress is going great!\n",
      "\n",
      "We have made great strides in the last month improving the -CENSORED- that the system has been using to acquire information. Now, the system is learning faster than ever and we are hard pressed to continue to find new information to feed it and sustain its growth.\n",
      "\n",
      "Soon, we'll expand the scope of the -CENSORED- and connect the system with the internet. This will allow it to find and determine the information it needs to continue growing.\n",
      "\n",
      "Every month we come closer to achieving our goal of making the world a better place. Famine, plague, war, and poverty are all conquerable with the power of our system!\n",
      "\n",
      "Till next month,\n",
      "Francine, Head Scientist\n",
      "\n"
     ]
    }
   ],
   "source": [
    "print(censor_phrase_str(email_one, phrase_to_replace))"
   ]
  },
  {
   "cell_type": "code",
   "execution_count": null,
   "metadata": {},
   "outputs": [],
   "source": []
  }
 ],
 "metadata": {
  "kernelspec": {
   "display_name": "Python 3",
   "language": "python",
   "name": "python3"
  },
  "language_info": {
   "codemirror_mode": {
    "name": "ipython",
    "version": 3
   },
   "file_extension": ".py",
   "mimetype": "text/x-python",
   "name": "python",
   "nbconvert_exporter": "python",
   "pygments_lexer": "ipython3",
   "version": "3.7.3"
  }
 },
 "nbformat": 4,
 "nbformat_minor": 2
}
