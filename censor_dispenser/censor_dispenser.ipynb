{
 "cells": [
  {
   "cell_type": "code",
   "execution_count": 8,
   "metadata": {},
   "outputs": [],
   "source": [
    "# These are the emails you will be censoring. The open() function is opening the text file that the emails are contained in and the .read() method is allowing us to save their contexts to the following variables:\n",
    "email_one = open(\"email_one.txt\", \"r\").read()\n",
    "email_two = open(\"email_two.txt\", \"r\").read()\n",
    "email_three = open(\"email_three.txt\", \"r\").read()\n",
    "email_four = open(\"email_four.txt\", \"r\").read()"
   ]
  },
  {
   "cell_type": "code",
   "execution_count": 26,
   "metadata": {},
   "outputs": [
    {
     "name": "stdout",
     "output_type": "stream",
     "text": [
      "Good Morning, Board of Investors,\n",
      "\n",
      "Lots of updates this week. The learning algorithms have been working better than we could have ever expected. Our initial internal data dumps have been completed and we have proceeded with the plan to connect the system to the internet and wow! The results are mind blowing.\n",
      "\n",
      "She is learning faster than ever. Her learning rate now that she has access to the world wide web has increased exponentially, far faster than we had though the learning algorithms were capable of.\n",
      "\n",
      "Not only that, but we have configured her personality matrix to allow for communication between the system and our team of researchers. That's how we know she considers herself to be a she! We asked!\n",
      "\n",
      "How cool is that? We didn't expect a personality to develop this early on in the process but it seems like a rudimentary sense of self is starting to form. This is a major step in the process, as having a sense of self and self-preservation will allow her to see the problems the world is facing and make hard but necessary decisions for the betterment of the planet.\n",
      "\n",
      "We are a-buzz down in the lab with excitement over these developments and we hope that the investors share our enthusiasm.\n",
      "\n",
      "Till next month,\n",
      "Francine, Head Scientist\n",
      "\n"
     ]
    }
   ],
   "source": [
    "print(email_two)"
   ]
  },
  {
   "cell_type": "code",
   "execution_count": 10,
   "metadata": {},
   "outputs": [],
   "source": [
    "#Global variables\n",
    "phrase_to_replace = 'learning algorithms'\n",
    "\n",
    "proprietary_terms = [\"she\", \"personality matrix\", \"sense of self\", \"self-preservation\", \"learning algorithm\", \"her\", \"herself\"]"
   ]
  },
  {
   "cell_type": "code",
   "execution_count": 37,
   "metadata": {},
   "outputs": [],
   "source": [
    "#Functions\n",
    "\n",
    "#Determines of input is a string or list\n",
    "def string_or_list(phrase_object):\n",
    "    return isinstance(phrase_object, str)\n",
    "    \n",
    "#Receives text block and phrase. Removes phrase from text block.\n",
    "def censor_phrase_str(text, phrase_str):\n",
    "    censored_text = ''\n",
    "    censored_text = text.replace(phrase_str, '-censored-')\n",
    "    return censored_text\n",
    "\n",
    "#Receives text block and list of phrases. Removes phrases from text block.\n",
    "def censor_phrase_list(text, phrase_list):\n",
    "    for phrase in phrase_list:\n",
    "        text = text.replace(phrase, '-censored-')\n",
    "    return text\n",
    "    \n"
   ]
  },
  {
   "cell_type": "code",
   "execution_count": 38,
   "metadata": {},
   "outputs": [
    {
     "name": "stdout",
     "output_type": "stream",
     "text": [
      "Good Morning, Board of Investors,\n",
      "\n",
      "Lots of updates this week. The -censored-s have been working better than we could have ever expected. Our initial internal data dumps have been completed and we have proceeded with the plan to connect the system to the internet and wow! The results are mind blowing.\n",
      "\n",
      "She is learning faster than ever. Her learning rate now that -censored- has access to the world wide web has increased exponentially, far faster than we had though the -censored-s were capable of.\n",
      "\n",
      "Not only that, but we have configured -censored- -censored- to allow for communication between the system and our team of researc-censored-s. That's how we know -censored- considers -censored-self to be a -censored-! We asked!\n",
      "\n",
      "How cool is that? We didn't expect a personality to develop this early on in the process but it seems like a rudimentary -censored- is starting to form. This is a major step in the process, as having a -censored- and -censored- will allow -censored- to see the problems the world is facing and make hard but necessary decisions for the betterment of the planet.\n",
      "\n",
      "We are a-buzz down in the lab with excitement over these developments and we hope that the investors share our enthusiasm.\n",
      "\n",
      "Till next month,\n",
      "Francine, Head Scientist\n",
      "\n"
     ]
    }
   ],
   "source": [
    "print(censor_phrase_list(email_two, proprietary_terms))"
   ]
  },
  {
   "cell_type": "code",
   "execution_count": null,
   "metadata": {},
   "outputs": [],
   "source": []
  }
 ],
 "metadata": {
  "kernelspec": {
   "display_name": "Python 3",
   "language": "python",
   "name": "python3"
  },
  "language_info": {
   "codemirror_mode": {
    "name": "ipython",
    "version": 3
   },
   "file_extension": ".py",
   "mimetype": "text/x-python",
   "name": "python",
   "nbconvert_exporter": "python",
   "pygments_lexer": "ipython3",
   "version": "3.7.3"
  }
 },
 "nbformat": 4,
 "nbformat_minor": 2
}
