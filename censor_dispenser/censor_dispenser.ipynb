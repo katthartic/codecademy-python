{
 "cells": [
  {
   "cell_type": "code",
   "execution_count": 1,
   "metadata": {},
   "outputs": [],
   "source": [
    "# These are the emails you will be censoring. The open() function is opening the text file that the emails are contained in and the .read() method is allowing us to save their contexts to the following variables:\n",
    "email_one = open(\"email_one.txt\", \"r\").read()\n",
    "email_two = open(\"email_two.txt\", \"r\").read()\n",
    "email_three = open(\"email_three.txt\", \"r\").read()\n",
    "email_four = open(\"email_four.txt\", \"r\").read()"
   ]
  },
  {
   "cell_type": "code",
   "execution_count": 22,
   "metadata": {},
   "outputs": [],
   "source": [
    "#Global variables\n",
    "phrase_to_replace = 'learning algorithms'\n",
    "proprietary_terms = [\"she\", \"personality matrix\", \"sense of self\", \"self-preservation\", \"learning algorithm\", \"her\", \"herself\"]\n",
    "negative_words = [\"concerned\", \"behind\", \"danger\", \"dangerous\", \"alarming\", \"alarmed\", \"out of control\", \"help\", \"unhappy\", \"bad\", \"upset\", \"awful\", \"broken\", \"damage\", \"damaging\", \"dismal\", \"distressed\", \"distressed\", \"concerning\", \"horrible\", \"horribly\", \"questionable\"]\n"
   ]
  },
  {
   "cell_type": "code",
   "execution_count": 35,
   "metadata": {},
   "outputs": [],
   "source": [
    "#Functions\n",
    "\n",
    "#Determines if input is a string\n",
    "def string_or_list(phrase_object):\n",
    "    return isinstance(phrase_object, str)\n",
    "    \n",
    "#Receives text block and phrase. Replaces phrase from text block with\"-CENSORED-\"\n",
    "def censor_phrase_str(text, phrase_str):\n",
    "    text = text.replace(phrase_str, '-CENSORED-')\n",
    "    return text\n",
    "\n",
    "#Receives text block and list of phrases. Replaces phrases from text block with \"-CENSORED-\"\n",
    "def censor_phrase_list(text, phrase_list):\n",
    "    phrast_list = phrase_list.sort(key=len, reverse=True)\n",
    "    for phrase in phrase_list:\n",
    "        text = text.replace(phrase.lower(), '-CENSORED-')\n",
    "        text = text.replace(phrase.upper(), '-CENSORED-')\n",
    "        text = text.replace(phrase.title(), '-CENSORED-')\n",
    "    return text\n",
    "\n",
    "def censor_phrases_negatives(text, phrase_list, negatives_list):\n",
    "    count = 0\n",
    "    for phrase in negatives_list:\n",
    "        if phrase in text and (count < 2):\n",
    "            count += 1\n",
    "        else:\n",
    "            text = text.replace(phrase.lower(), '-CENSORED-')\n",
    "            text = text.replace(phrase.upper(), '-CENSORED-')\n",
    "            text = text.replace(phrase.title(), '-CENSORED-')\n",
    "            \n",
    "    return censor_phrase_list(text, phrase_list)\n",
    "    \n"
   ]
  },
  {
   "cell_type": "code",
   "execution_count": 36,
   "metadata": {},
   "outputs": [
    {
     "name": "stdout",
     "output_type": "stream",
     "text": [
      "Board of Investors,\n",
      "\n",
      "Things have taken a concerning turn down in the Lab.  Helena (she has insisted on being called  Helena, we're unsure how she came to that moniker) is still progressing at a rapid rate. Every day we see new developments in her thought patterns, but recently those developments have been more alarming than exciting.\n",
      "\n",
      "Let me give you one of the more distressing examples of this.  We had begun testing hypothetical humanitarian crises to observe how Helena determines best solutions. One scenario involved a famine plaguing an unresourced country.\n",
      "\n",
      "Horribly, Helena quickly recommended a course of action involving culling more than 60% of the local population. When pressed on reasoning, she stated that this method would maximize \"reduction in human suffering.\"\n",
      "\n",
      "This dangerous line of thinking has led many of us to think that we must have taken some wrong turns when developing some of the initial learning algorithms. We are considering taking Helena offline for the time being before the situation can spiral out of control.\n",
      "\n",
      "More updates soon,\n",
      "Francine, Head Scientist\n",
      "\n"
     ]
    }
   ],
   "source": [
    "print(email_three)"
   ]
  },
  {
   "cell_type": "code",
   "execution_count": 37,
   "metadata": {},
   "outputs": [
    {
     "name": "stdout",
     "output_type": "stream",
     "text": [
      "Board of Investors,\n",
      "\n",
      "Things have taken a -CENSORED- turn down in the Lab.  Helena (-CENSORED- has insisted on being called  Helena, we're unsure how -CENSORED- came to that moniker) is still progressing at a rapid rate. Every day we see new developments in -CENSORED- thought patterns, but recently those developments have been more -CENSORED- than exciting.\n",
      "\n",
      "Let me give you one of the more distressing examples of this.  We had begun testing hypothetical humanitarian crises to observe how Helena determines best solutions. One scenario involved a famine plaguing an unresourced country.\n",
      "\n",
      "-CENSORED-, Helena quickly recommended a course of action involving culling more than 60% of the local population. When pressed on reasoning, -CENSORED- stated that this method would maximize \"reduction in human suffering.\"\n",
      "\n",
      "This dangerous line of thinking has led many of us to think that we must have taken some wrong turns when developing some of the initial -CENSORED-s. We are considering taking Helena offline for the time being before the situation can spiral -CENSORED-.\n",
      "\n",
      "More updates soon,\n",
      "Francine, Head Scientist\n",
      "\n"
     ]
    }
   ],
   "source": [
    "print(censor_phrases_negatives(email_three, proprietary_terms, negative_words))"
   ]
  },
  {
   "cell_type": "code",
   "execution_count": null,
   "metadata": {},
   "outputs": [],
   "source": []
  }
 ],
 "metadata": {
  "kernelspec": {
   "display_name": "Python 3",
   "language": "python",
   "name": "python3"
  },
  "language_info": {
   "codemirror_mode": {
    "name": "ipython",
    "version": 3
   },
   "file_extension": ".py",
   "mimetype": "text/x-python",
   "name": "python",
   "nbconvert_exporter": "python",
   "pygments_lexer": "ipython3",
   "version": "3.7.3"
  }
 },
 "nbformat": 4,
 "nbformat_minor": 2
}
