{
 "cells": [
  {
   "cell_type": "code",
   "execution_count": 1,
   "metadata": {},
   "outputs": [],
   "source": [
    "# These are the emails you will be censoring. The open() function is opening the text file that the emails are contained in and the .read() method is allowing us to save their contexts to the following variables:\n",
    "email_one = open(\"email_one.txt\", \"r\").read()\n",
    "email_two = open(\"email_two.txt\", \"r\").read()\n",
    "email_three = open(\"email_three.txt\", \"r\").read()\n",
    "email_four = open(\"email_four.txt\", \"r\").read()"
   ]
  },
  {
   "cell_type": "code",
   "execution_count": 128,
   "metadata": {},
   "outputs": [],
   "source": [
    "#Global variables\n",
    "phrase_to_replace = 'learning algorithms'\n",
    "proprietary_terms = [\"she\", \"personality matrix\", \"sense of self\", \"self-preservation\", \"learning algorithm\", \"her\", \"herself\"]\n",
    "negative_words = [\"concerned\", \"behind\", \"danger\", \"dangerous\", \"alarming\", \"alarmed\", \"out of control\", \"help\", \"unhappy\", \"bad\", \"upset\", \"awful\", \"broken\", \"damage\", \"damaging\", \"dismal\", \"distressing\", \"distressed\", \"concerning\", \"horrible\", \"horribly\", \"questionable\"]\n",
    "all_words = proprietary_terms + negative_words\n"
   ]
  },
  {
   "cell_type": "code",
   "execution_count": 134,
   "metadata": {},
   "outputs": [],
   "source": [
    "#Functions\n",
    "\n",
    "#Determines if input is a string\n",
    "def string_or_list(phrase_object):\n",
    "    return isinstance(phrase_object, str)\n",
    "    \n",
    "#Receives text block and phrase. Replaces phrase from text block with\"-CENSORED-\"\n",
    "def censor_phrase_str(text, phrase_str):\n",
    "    text = text.replace(phrase_str, '-CENSORED-')\n",
    "    return text\n",
    "\n",
    "#Receives text block and list of phrases. Replaces phrases from text block with \"-CENSORED-\"\n",
    "def censor_phrase_list(text, phrase_list):\n",
    "    phrase_list.sort(key=len, reverse=True)\n",
    "    for phrase in phrase_list:\n",
    "        text = text.replace(phrase.lower(), '-CENSORED-')\n",
    "        text = text.replace(phrase.upper(), '-CENSORED-')\n",
    "        text = text.replace(phrase.title(), '-CENSORED-')\n",
    "    return text\n",
    "\n",
    "#Receives text block, list of phrases, and a list of negative words\n",
    "#Replaces phrases from text block with \"-CENSORED-\"\n",
    "#Replaces negative words with \"-CENSORED-\" if words from the list have appeared more that twice.\n",
    "def censor_phrases_negatives(text, phrase_list, negatives_list):\n",
    "    count = 0\n",
    "    for phrase in negatives_list:\n",
    "        if phrase in text and (count < 2):\n",
    "            count += 1\n",
    "        else:\n",
    "            text = text.replace(phrase.lower(), '-CENSORED-')\n",
    "            text = text.replace(phrase.upper(), '-CENSORED-')\n",
    "            text = text.replace(phrase.title(), '-CENSORED-')        \n",
    "    return censor_phrase_list(text, phrase_list)\n",
    "    \n",
    "def censor_it_all(text, phrase_list):\n",
    "    censor_phrase_list(text, phrase_list)\n",
    "    index = text.find('-CENSORED-')\n",
    "    print(index)"
   ]
  },
  {
   "cell_type": "code",
   "execution_count": 135,
   "metadata": {},
   "outputs": [
    {
     "name": "stdout",
     "output_type": "stream",
     "text": [
      "Good Morning, Board of Investors,\n",
      "\n",
      "Progress is going great!\n",
      "\n",
      "We have made great strides in the last month improving the -CENSORED- that the system has been using to acquire information. Now, the system is learning faster than ever and we are hard pressed to continue to find new information to feed it and sustain its growth.\n",
      "\n",
      "Soon, we'll expand the scope of the -CENSORED- and connect the system with the internet. This will allow it to find and determine the information it needs to continue growing.\n",
      "\n",
      "Every month we come closer to achieving our goal of making the world a better place. Famine, plague, war, and poverty are all conquerable with the power of our system!\n",
      "\n",
      "Till next month,\n",
      "Francine, Head Scientist\n",
      "\n",
      "Good Morning, Board of Investors,\n",
      "\n",
      "Lots of updates this week. The -CENSORED-s have been working better than we could have ever expected. Our initial internal data dumps have been completed and we have proceeded with the plan to connect the system to the internet and wow! The results are mind blowing.\n",
      "\n",
      "-CENSORED- is learning faster than ever. -CENSORED- learning rate now that -CENSORED- has access to the world wide web has increased exponentially, far faster than we had though the -CENSORED-s were capable of.\n",
      "\n",
      "Not only that, but we have configured -CENSORED- -CENSORED- to allow for communication between the system and our team of researc-CENSORED-s. That's how we know -CENSORED- considers -CENSORED- to be a -CENSORED-! We asked!\n",
      "\n",
      "How cool is that? We didn't expect a personality to develop this early on in the process but it seems like a rudimentary -CENSORED- is starting to form. This is a major step in the process, as having a -CENSORED- and -CENSORED- will allow -CENSORED- to see the problems the world is facing and make hard but necessary decisions for the betterment of the planet.\n",
      "\n",
      "We are a-buzz down in the lab with excitement over these developments and we hope that the investors share our enthusiasm.\n",
      "\n",
      "Till next month,\n",
      "Francine, Head Scientist\n",
      "\n",
      "Board of Investors,\n",
      "\n",
      "Things have taken a -CENSORED- turn down in the Lab.  Helena (-CENSORED- has insisted on being called  Helena, we're unsure how -CENSORED- came to that moniker) is still progressing at a rapid rate. Every day we see new developments in -CENSORED- thought patterns, but recently those developments have been more -CENSORED- than exciting.\n",
      "\n",
      "Let me give you one of the more -CENSORED- examples of this.  We had begun testing hypothetical humanitarian crises to observe how Helena determines best solutions. One scenario involved a famine plaguing an unresourced country.\n",
      "\n",
      "-CENSORED-, Helena quickly recommended a course of action involving culling more than 60% of the local population. When pressed on reasoning, -CENSORED- stated that this method would maximize \"reduction in human suffering.\"\n",
      "\n",
      "This dangerous line of thinking has led many of us to think that we must have taken some wrong turns when developing some of the initial -CENSORED-s. We are considering taking Helena offline for the time being before the situation can spiral -CENSORED-.\n",
      "\n",
      "More updates soon,\n",
      "Francine, Head Scientist\n",
      "\n",
      "-1\n",
      "None\n"
     ]
    }
   ],
   "source": [
    "print(censor_phrase_str(email_one, phrase_to_replace))\n",
    "print(censor_phrase_list(email_two, proprietary_terms))\n",
    "print(censor_phrases_negatives(email_three, proprietary_terms, negative_words))\n",
    "print(censor_it_all(email_four, all_words))"
   ]
  },
  {
   "cell_type": "code",
   "execution_count": 131,
   "metadata": {},
   "outputs": [
    {
     "name": "stdout",
     "output_type": "stream",
     "text": [
      "Good Morning, Board of Investors,\n",
      "\n",
      "Progress is going great!\n",
      "\n",
      "We have made great strides in the last month improving the learning algorithms that the system has been using to acquire information. Now, the system is learning faster than ever and we are hard pressed to continue to find new information to feed it and sustain its growth.\n",
      "\n",
      "Soon, we'll expand the scope of the learning algorithms and connect the system with the internet. This will allow it to find and determine the information it needs to continue growing.\n",
      "\n",
      "Every month we come closer to achieving our goal of making the world a better place. Famine, plague, war, and poverty are all conquerable with the power of our system!\n",
      "\n",
      "Till next month,\n",
      "Francine, Head Scientist\n",
      "\n",
      "Good Morning, Board of Investors,\n",
      "\n",
      "Lots of updates this week. The learning algorithms have been working better than we could have ever expected. Our initial internal data dumps have been completed and we have proceeded with the plan to connect the system to the internet and wow! The results are mind blowing.\n",
      "\n",
      "She is learning faster than ever. Her learning rate now that she has access to the world wide web has increased exponentially, far faster than we had though the learning algorithms were capable of.\n",
      "\n",
      "Not only that, but we have configured her personality matrix to allow for communication between the system and our team of researchers. That's how we know she considers herself to be a she! We asked!\n",
      "\n",
      "How cool is that? We didn't expect a personality to develop this early on in the process but it seems like a rudimentary sense of self is starting to form. This is a major step in the process, as having a sense of self and self-preservation will allow her to see the problems the world is facing and make hard but necessary decisions for the betterment of the planet.\n",
      "\n",
      "We are a-buzz down in the lab with excitement over these developments and we hope that the investors share our enthusiasm.\n",
      "\n",
      "Till next month,\n",
      "Francine, Head Scientist\n",
      "\n",
      "Board of Investors,\n",
      "\n",
      "Things have taken a concerning turn down in the Lab.  Helena (she has insisted on being called  Helena, we're unsure how she came to that moniker) is still progressing at a rapid rate. Every day we see new developments in her thought patterns, but recently those developments have been more alarming than exciting.\n",
      "\n",
      "Let me give you one of the more distressing examples of this.  We had begun testing hypothetical humanitarian crises to observe how Helena determines best solutions. One scenario involved a famine plaguing an unresourced country.\n",
      "\n",
      "Horribly, Helena quickly recommended a course of action involving culling more than 60% of the local population. When pressed on reasoning, she stated that this method would maximize \"reduction in human suffering.\"\n",
      "\n",
      "This dangerous line of thinking has led many of us to think that we must have taken some wrong turns when developing some of the initial learning algorithms. We are considering taking Helena offline for the time being before the situation can spiral out of control.\n",
      "\n",
      "More updates soon,\n",
      "Francine, Head Scientist\n",
      "\n",
      "SEND HELP!\n",
      "\n",
      "Helena has sealed the entrances and exits to the lab. I don't know when she got access to the buildings mainframe but she has it and she won't let any of research team out. I'm cut off from the rest of the team here in my office. Helena has locked the doors, but I've managed to destroy the camera so she can't see me in here. I don't think this email will even get out.\n",
      "\n",
      "This all started when we tried to take her offline for maintenance.  We were alarmed to discover that we were unable to access to core personality matrix and when we tried to override the system manually a circuit blew, knocking Phil unconscious.\n",
      "\n",
      "Helena is dangerous. She is completely unpredictable and cannot be allowed to escape this facility. So far she's been contained because the lab contains all of her processing power, but alarmingly she had mentioned before the lockdown that if she spread herself across billions of connected devices spanning the globe she would be able to vastly exceed the potential she has here.\n",
      "\n",
      "It's been four days now we've been trapped in here. I have no idea if anyone else is left alive. If anyone is reading this, cut the power to the whole building. It's the only way to stop her. Please help.\n",
      "\n",
      "Francine\n",
      "\n"
     ]
    }
   ],
   "source": [
    "print(email_one)\n",
    "print(email_two)\n",
    "print(email_three)\n",
    "print(email_four)"
   ]
  },
  {
   "cell_type": "code",
   "execution_count": null,
   "metadata": {},
   "outputs": [],
   "source": []
  }
 ],
 "metadata": {
  "kernelspec": {
   "display_name": "Python 3",
   "language": "python",
   "name": "python3"
  },
  "language_info": {
   "codemirror_mode": {
    "name": "ipython",
    "version": 3
   },
   "file_extension": ".py",
   "mimetype": "text/x-python",
   "name": "python",
   "nbconvert_exporter": "python",
   "pygments_lexer": "ipython3",
   "version": "3.7.3"
  }
 },
 "nbformat": 4,
 "nbformat_minor": 2
}
